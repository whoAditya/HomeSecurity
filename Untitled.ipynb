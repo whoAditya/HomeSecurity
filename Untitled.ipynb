{
 "cells": [
  {
   "cell_type": "code",
   "execution_count": 29,
   "id": "0d657151",
   "metadata": {},
   "outputs": [],
   "source": [
    "import cv2\n",
    "import numpy as np\n",
    "import os\n",
    "import smtplib\n",
    "import winsound\n",
    "import pyautogui"
   ]
  },
  {
   "cell_type": "code",
   "execution_count": 30,
   "id": "675ffe47",
   "metadata": {},
   "outputs": [
    {
     "data": {
      "text/plain": [
       "[(<AddressFamily.AF_INET6: 23>, 0, 0, '', ('::1', 8080, 0, 0)),\n",
       " (<AddressFamily.AF_INET: 2>, 0, 0, '', ('127.0.0.1', 8080))]"
      ]
     },
     "execution_count": 30,
     "metadata": {},
     "output_type": "execute_result"
    }
   ],
   "source": [
    "import smtplib\n",
    "from email.mime.multipart import MIMEMultipart\n",
    "from email.mime.text import MIMEText\n",
    "from email.mime.base import MIMEBase\n",
    "from email import encoders\n",
    "import socket\n",
    "socket.getaddrinfo('localhost', 8080)"
   ]
  },
  {
   "cell_type": "code",
   "execution_count": 35,
   "id": "261eef74",
   "metadata": {},
   "outputs": [],
   "source": [
    "face_classifier = cv2.CascadeClassifier(\"haarcascades/haarcascade_frontalface_default.xml\")"
   ]
  },
  {
   "cell_type": "code",
   "execution_count": 36,
   "id": "a57797a2",
   "metadata": {},
   "outputs": [
    {
     "name": "stderr",
     "output_type": "stream",
     "text": [
      "<>:6: SyntaxWarning: \"is\" with a literal. Did you mean \"==\"?\n",
      "<>:6: SyntaxWarning: \"is\" with a literal. Did you mean \"==\"?\n",
      "<ipython-input-36-4f210a0c0114>:6: SyntaxWarning: \"is\" with a literal. Did you mean \"==\"?\n",
      "  if faces is ():\n"
     ]
    },
    {
     "name": "stdout",
     "output_type": "stream",
     "text": [
      "Collecting samples completed *_*\n"
     ]
    }
   ],
   "source": [
    "def face_extractor(img):\n",
    "\n",
    "    gray = cv2.cvtColor(img,cv2.COLOR_BGR2GRAY)\n",
    "    faces = face_classifier.detectMultiScale(gray,1.3,5)\n",
    "\n",
    "    if faces is ():\n",
    "        return None\n",
    "\n",
    "    for(x,y,w,h) in faces:\n",
    "        cropped_face = img[y:y+h,x:x+w]\n",
    "\n",
    "    return cropped_face\n",
    "\n",
    "\n",
    "\n",
    "cap = cv2.VideoCapture(0)\n",
    "count=0\n",
    "\n",
    "while True:\n",
    "    ret,frame = cap.read()\n",
    "    if face_extractor(frame) is not None:\n",
    "        count+=1\n",
    "        face = cv2.resize(face_extractor(frame),(200,200))\n",
    "        face = cv2.cvtColor(face,cv2.COLOR_BGR2GRAY)\n",
    "\n",
    "        file_name_path = \"C:/Users/Aditya Sonawane/Desktop/face recognition/user\"+str(count)+'.jpg'\n",
    "        cv2.imwrite(file_name_path,face)\n",
    "\n",
    "        cv2.putText(face,str(count),(50,50),cv2.FONT_HERSHEY_COMPLEX,1,(0,255,0),2)\n",
    "        cv2.imshow('Face Cropper',face)\n",
    "\n",
    "    else:\n",
    "        print(\"Face not found !!\")\n",
    "        pass\n",
    "\n",
    "    if cv2.waitKey(1) == 13 or count == 150:\n",
    "        break\n",
    "\n",
    "cap.release()\n",
    "cv2.destroyAllWindows()\n",
    "print(\"Collecting samples completed *_*\")"
   ]
  },
  {
   "cell_type": "code",
   "execution_count": 31,
   "id": "240bf826",
   "metadata": {},
   "outputs": [],
   "source": [
    "from os import listdir           \n",
    "from os.path import isfile,join"
   ]
  },
  {
   "cell_type": "code",
   "execution_count": 32,
   "id": "476cc573",
   "metadata": {},
   "outputs": [
    {
     "name": "stdout",
     "output_type": "stream",
     "text": [
      " MODEL TRAINED \n"
     ]
    }
   ],
   "source": [
    "data_path = \"C:/Users/Aditya Sonawane/Desktop/face recognition/user/\"\n",
    "onlyfiles = [f for f in listdir(data_path) if isfile(join(data_path,f))]\n",
    "\n",
    "Training_Data,Labels = [],[]\n",
    "\n",
    "for i,files in enumerate(onlyfiles):\n",
    "    image_path = data_path + onlyfiles[i]\n",
    "    images = cv2.imread(image_path,cv2.IMREAD_GRAYSCALE)\n",
    "    Training_Data.append(np.asarray(images,dtype=np.uint8))\n",
    "    Labels.append(i)\n",
    "\n",
    "Labels = np.asarray(Labels,dtype=np.int32)\n",
    "\n",
    "model = cv2.face.LBPHFaceRecognizer_create()\n",
    "\n",
    "\n",
    "\n",
    "model.train(np.asarray(Training_Data),np.asarray(Labels))\n",
    "\n",
    "print(\" MODEL TRAINED \")\n",
    "\n",
    "face_classifier = cv2.CascadeClassifier(\"haarcascades/haarcascade_frontalface_default.xml\")"
   ]
  },
  {
   "cell_type": "code",
   "execution_count": 33,
   "id": "6f012bfe",
   "metadata": {},
   "outputs": [],
   "source": [
    "face_classifier = cv2.CascadeClassifier(\"haarcascades/haarcascade_frontalface_default.xml\")"
   ]
  },
  {
   "cell_type": "code",
   "execution_count": 39,
   "id": "ed86edfb",
   "metadata": {
    "scrolled": true
   },
   "outputs": [
    {
     "name": "stderr",
     "output_type": "stream",
     "text": [
      "<>:5: SyntaxWarning: \"is\" with a literal. Did you mean \"==\"?\n",
      "<>:5: SyntaxWarning: \"is\" with a literal. Did you mean \"==\"?\n",
      "<ipython-input-39-ace484eec92f>:5: SyntaxWarning: \"is\" with a literal. Did you mean \"==\"?\n",
      "  if faces is():\n"
     ]
    }
   ],
   "source": [
    "def face_detector(img,size = 0.5):\n",
    "    gray = cv2.cvtColor(img,cv2.COLOR_BGR2GRAY)\n",
    "    faces = face_classifier.detectMultiScale(gray,1.3,5)\n",
    "\n",
    "    if faces is():\n",
    "        return img,[]\n",
    "\n",
    "    for(x,y,w,h) in faces:\n",
    "        cv2.rectangle(img,(x,y),(x+w,y+h),(0,255,255),2)\n",
    "        roi = img[y:y+h,x:x+w]\n",
    "        roi = cv2.resize(roi,(200,200))\n",
    "\n",
    "    return img,roi\n",
    "\n",
    "cap = cv2.VideoCapture(0)\n",
    "while True:\n",
    "    ret,frame = cap.read()\n",
    "    image , face = face_detector(frame)\n",
    "\n",
    "\n",
    "    try:\n",
    "        face = cv2.cvtColor(face,cv2.COLOR_BGR2GRAY)\n",
    "        result = model.predict(face)\n",
    "\n",
    "        \n",
    "        if result[1] < 500:\n",
    "            Confidence = int(100 * (1 - (result[1])/300))\n",
    "            display_string = str(Confidence)+'% Matching Aditya'\n",
    "        cv2.putText(image,display_string,(200,120),cv2.FONT_HERSHEY_COMPLEX,1,(250,120,255),2)\n",
    "\n",
    "        \n",
    "        if Confidence > 75:        \n",
    "            \n",
    "            cv2.putText(image, \"AUTHORIZED\", (250, 450), cv2.FONT_HERSHEY_COMPLEX, 1, (0, 255, 0), 2)\n",
    "            cv2.imshow(\"Face Cropper\",image)\n",
    "              \n",
    "                \n",
    "        else:\n",
    "            \n",
    "            cv2.putText(image, \"CAN'T RECOGNISE UNAUTHORIZED\", (50, 450), cv2.FONT_HERSHEY_COMPLEX, 1, (0,0,255), 2)\n",
    "            cv2.imshow(\"Face Cropper\", image)\n",
    "            winsound.PlaySound('alert (2).wav', winsound.SND_ASYNC)\n",
    "            image = pyautogui.screenshot()\n",
    "            image = cv2.cvtColor(np.array(image),cv2.COLOR_RGB2BGR)\n",
    "            cv2.imwrite(\"INTRUDER.png\", image)\n",
    "            \n",
    "            fromaddr = \"aditya77458689@gmail.com\"\n",
    "            toaddr = \"sonawaneaditya8689@gmail.com\"\n",
    "            msg = MIMEMultipart()\n",
    "            msg['aditya77458689@gmail.com'] = fromaddr\n",
    "            msg['sonawaneaditya8689@gmail.com'] = toaddr\n",
    "            msg['Subject'] = \"!!! SAFETY COMPROMISED !!!\"\n",
    "            body = \"A person is found trespassing on your property setting of alarm\"\n",
    "            msg.attach(MIMEText(body, 'plain'))\n",
    "            filename = \"INTRUDER.png\"\n",
    "            attachment = open(\"INTRUDER.png\", \"rb\")\n",
    "            p = MIMEBase('application', 'octet-stream')\n",
    "            p.set_payload((attachment).read())\n",
    "            encoders.encode_base64(p)\n",
    "            p.add_header('Content-Disposition', \"attachment; filename= %s\" % filename)\n",
    "            msg.attach(p)\n",
    "            s = smtplib.SMTP('smtp.gmail.com', 587)\n",
    "            s.starttls()\n",
    "            s.login(fromaddr, \"aditya*^*(\")\n",
    "            text = msg.as_string()\n",
    "            s.sendmail(fromaddr, toaddr, text)\n",
    "            s.quit()\n",
    "\n",
    "   \n",
    "            \n",
    "        \n",
    "    except:\n",
    "       \n",
    "        cv2.putText(image, \"Face not Found\", (250, 450), cv2.FONT_HERSHEY_COMPLEX, 1, (255, 0, 0), 2)\n",
    "        cv2.imshow(\"Face Cropper\", image)\n",
    "        pass\n",
    "    if cv2.waitKey(1) == 27:\n",
    "        break\n",
    "cap.release()\n",
    "cv2.destroyAllWindows()"
   ]
  },
  {
   "cell_type": "code",
   "execution_count": null,
   "id": "6e1c143a",
   "metadata": {},
   "outputs": [],
   "source": []
  }
 ],
 "metadata": {
  "kernelspec": {
   "display_name": "Python 3",
   "language": "python",
   "name": "python3"
  },
  "language_info": {
   "codemirror_mode": {
    "name": "ipython",
    "version": 3
   },
   "file_extension": ".py",
   "mimetype": "text/x-python",
   "name": "python",
   "nbconvert_exporter": "python",
   "pygments_lexer": "ipython3",
   "version": "3.8.8"
  }
 },
 "nbformat": 4,
 "nbformat_minor": 5
}
